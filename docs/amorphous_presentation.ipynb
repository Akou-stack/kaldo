{
  "nbformat": 4,
  "nbformat_minor": 0,
  "metadata": {
    "colab": {
      "name": "amorphous_presentation.ipynb",
      "provenance": [],
      "collapsed_sections": [],
      "toc_visible": true
    },
    "kernelspec": {
      "name": "python3",
      "display_name": "Python 3"
    },
    "accelerator": "GPU"
  },
  "cells": [
    {
      "cell_type": "markdown",
      "metadata": {
        "id": "HFoatzweSuTT",
        "colab_type": "text"
      },
      "source": [
        "\n",
        "Open the notebook in Colab https://github.com/gbarbalinardo/ballistico/blob/master/docs/amorphous_presentation.ipynb\n",
        "\n",
        "<a href=\"https://github.com/gbarbalinardo/ballistico/blob/master/docs/amorphous_presentation.ipynb\" target=\"_parent\"><img src=\"https://colab.research.google.com/assets/colab-badge.svg\" alt=\"Open In Colab\"/></a>"
      ]
    },
    {
      "cell_type": "markdown",
      "metadata": {
        "id": "RDmLrYaYyjjf",
        "colab_type": "text"
      },
      "source": [
        "# Tutorial: Thermal Transport Simulation for Silicon Amorphous\n",
        "Run the code cell below to install ballistico. Replace username and password."
      ]
    },
    {
      "cell_type": "code",
      "metadata": {
        "id": "YmTI_xUXyxPn",
        "colab_type": "code",
        "colab": {}
      },
      "source": [
        "!pip install git+https://<USERNAME>:<PASSWORD>@github.com/gbarbalinardo/ballistico.git"
      ],
      "execution_count": 0,
      "outputs": []
    },
    {
      "cell_type": "markdown",
      "metadata": {
        "id": "W3jVRdQg1US_",
        "colab_type": "text"
      },
      "source": [
        "## Remote Fetch Necessary Files\n",
        "Run the code cell below to fetch ballistico/finitedifference repos,geometry (in xyz) and forefield files."
      ]
    },
    {
      "cell_type": "code",
      "metadata": {
        "id": "n4PN3gLv08-r",
        "colab_type": "code",
        "colab": {}
      },
      "source": [
        "import os\n",
        "if not os.path.exists('dlpoly-216.zip'):\n",
        "  !wget http://chemac196.ucdavis.edu/data-html/dlpoly-216.tar.gz\n",
        "  !tar -xzf dlpoly-216.tar.gz\n",
        "  !rm dlpoly-216.tar.gz\n"
      ],
      "execution_count": 0,
      "outputs": []
    },
    {
      "cell_type": "markdown",
      "metadata": {
        "id": "FlzbvmDEACjK",
        "colab_type": "text"
      },
      "source": [
        "\n",
        "## Import the needed dependencies"
      ]
    },
    {
      "cell_type": "code",
      "metadata": {
        "id": "r4DQJ9R8_LSs",
        "colab_type": "code",
        "colab": {}
      },
      "source": [
        "from ballistico.finitedifference import FiniteDifference\n",
        "from ballistico.phonons import Phonons\n",
        "import matplotlib.pyplot as plt\n",
        "import numpy as np\n",
        "import ase.units as units\n",
        "plt.style.use('seaborn-poster')\n",
        "\n",
        "# if you want to run it as script\n",
        "# import sys\n",
        "# temperature = float(sys.argv[1])\n",
        "# is_classic = int(sys.argv[2])"
      ],
      "execution_count": 0,
      "outputs": []
    },
    {
      "cell_type": "markdown",
      "metadata": {
        "id": "CEwFwIu22sTr",
        "colab_type": "text"
      },
      "source": [
        "## Create the `FiniteDifference` object importing it from the Davide/Charlie format\n"
      ]
    },
    {
      "cell_type": "code",
      "metadata": {
        "id": "klqZU5kL2r03",
        "colab_type": "code",
        "colab": {}
      },
      "source": [
        "finite_difference = FiniteDifference.import_from_dlpoly_folder('dlpoly-216')"
      ],
      "execution_count": 0,
      "outputs": []
    },
    {
      "cell_type": "markdown",
      "metadata": {
        "id": "QN_vsCka214j",
        "colab_type": "text"
      },
      "source": [
        "## Create the `Phonons` object"
      ]
    },
    {
      "cell_type": "code",
      "metadata": {
        "id": "s5CqRV1_21dS",
        "colab_type": "code",
        "colab": {}
      },
      "source": [
        "\n",
        "# # Create a phonon object\n",
        "phonons = Phonons (finite_difference=finite_difference,\n",
        "                   is_classic=1,\n",
        "                   temperature=300,\n",
        "                   folder='si-amorphous',\n",
        "                   third_bandwidth=0.05/4.135,\n",
        "                   broadening_shape='triangle')"
      ],
      "execution_count": 0,
      "outputs": []
    },
    {
      "cell_type": "markdown",
      "metadata": {
        "id": "QJrSANGH2UE7",
        "colab_type": "text"
      },
      "source": [
        "## Plot the inverse of the lifetime, $\\Gamma$"
      ]
    },
    {
      "cell_type": "code",
      "metadata": {
        "id": "paZ-0PdV2LQE",
        "colab_type": "code",
        "colab": {}
      },
      "source": [
        "\n",
        "frequencies = phonons.frequencies.flatten()\n",
        "gamma_classic = phonons.gamma.flatten()\n",
        "plt.plot(frequencies[3:], gamma_classic[3:], 'b.', markersize=10)\n",
        "plt.ylabel('$\\Gamma$ (THz)', fontsize=25, fontweight='bold')\n",
        "plt.xlabel(\"$\\\\nu$ (Thz)\", fontsize=25, fontweight='bold')\n",
        "plt.ylim([gamma_classic.min(), 6])\n",
        "plt.show()\n"
      ],
      "execution_count": 0,
      "outputs": []
    },
    {
      "cell_type": "markdown",
      "metadata": {
        "id": "Z5Oi9Z1i2OPf",
        "colab_type": "text"
      },
      "source": [
        "## Plot phase space"
      ]
    },
    {
      "cell_type": "code",
      "metadata": {
        "id": "jXNDQFsn2NvA",
        "colab_type": "code",
        "colab": {}
      },
      "source": [
        "\n",
        "ps_classic = phonons.ps.flatten()\n",
        "plt.plot(frequencies[3:], ps_classic[3:], 'b.', markersize=10)\n",
        "plt.ylabel('$\\Gamma$ (THz)', fontsize=25, fontweight='bold')\n",
        "plt.xlabel(\"$\\\\nu$ (Thz)\", fontsize=25, fontweight='bold')\n",
        "plt.show()"
      ],
      "execution_count": 0,
      "outputs": []
    },
    {
      "cell_type": "markdown",
      "metadata": {
        "id": "jt0EwrvZ5AVh",
        "colab_type": "text"
      },
      "source": [
        "## Conductivity Quasi-Harmonic-Green-Kubo"
      ]
    },
    {
      "cell_type": "code",
      "metadata": {
        "id": "2iEoR8ZV5HW6",
        "colab_type": "code",
        "colab": {}
      },
      "source": [
        "\n",
        "print('QHGK conductivity')\n",
        "cond = phonons.conductivity(method='qhgk').sum(axis=0)"
      ],
      "execution_count": 0,
      "outputs": []
    },
    {
      "cell_type": "code",
      "metadata": {
        "id": "VHEJcuV_0cHG",
        "colab_type": "code",
        "colab": {}
      },
      "source": [
        "# Create a finite difference object\n",
        "finite_difference = FiniteDifference.import_from_dlpoly_folder('dlpoly-216')\n",
        "# '\n",
        "# # Create a phonon object\n",
        "temperatures = [5, 10, 15, 20, 35, 50, 75, 100, 150, 200, 300, 500, 1000]\n",
        "for third_bandwidth in [0.5, 1, 2, 4]:\n",
        "    conds = []\n",
        "    for temperature in temperatures:\n",
        "        phonons = Phonons (finite_difference=finite_difference,\n",
        "                   is_classic=0,\n",
        "                   temperature=temperature,\n",
        "                   folder='si-amorphous',\n",
        "                   third_bandwidth=third_bandwidth/4.135,\n",
        "                   broadening_shape='triangle')\n",
        "\n",
        "\n",
        "        print('AF conductivity')\n",
        "        cond = (phonons.conductivity(method='qhgk', third_bandwidth=third_bandwidth/4.135).sum(axis=0))\n",
        "        conds.append(cond.diagonal().mean())\n",
        "    plt.plot(temperatures, conds, label='$\\delta_{in}$='+str(np.round(third_bandwidth/4.135,2))+' THz')\n",
        "    \n",
        "plt.ylabel('$\\kappa$ (W/m/K)', fontsize=25, fontweight='bold')\n",
        "plt.xlabel(\"$Temperature$ (K)\", fontsize=25, fontweight='bold')\n",
        "plt.legend(prop={'size': 20})\n",
        "plt.show()\n"
      ],
      "execution_count": 0,
      "outputs": []
    },
    {
      "cell_type": "code",
      "metadata": {
        "id": "9jGCNRng6Urj",
        "colab_type": "code",
        "colab": {}
      },
      "source": [
        ""
      ],
      "execution_count": 0,
      "outputs": []
    }
  ]
}
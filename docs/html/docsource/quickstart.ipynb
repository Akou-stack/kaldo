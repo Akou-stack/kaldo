{
 "cells": [
  {
   "cell_type": "markdown",
   "metadata": {
    "collapsed": false
   },
   "source": [
    "\n",
    "\n",
    "We recommend creating a new environment with Python 3.7.\n",
    "```bash\n",
    "conda create -n kaldo python=3.7\n",
    "```\n",
    "Alternatively you can use Python 3.6. The Tensorflow module doesn't seem to be compatible with Python 3.8, yet.\n",
    "\n",
    "kaldo installation can be done using `pip`\n",
    "```bash\n",
    "pip install kaldo\n",
    "```\n",
    "\n",
    "### Code Architecture\n",
    "\n",
    "<img src=\"../_resources/class_diagram.png\" width=\"650\">\n",
    "\n",
    "### Interfacing with Other Codes\n",
    "\n",
    "Work in progress.\n",
    " \n",
    "#### LAMMPS setup\n",
    "\n",
    "Compile LAMMPS as a lib\n",
    "```bash\n",
    "cd path/to/lammps/src\n",
    "make yes-manybody\n",
    "make yes-molecule\n",
    "make mpi mode=shlib\n",
    "make install-python\n",
    "```\n",
    "\n",
    "### Quantum Espresso setup\n",
    "\n",
    "Set the environment variable:\n",
    "```bash\n",
    "export ASE_ESPRESSO_COMMAND=\"mpirun -np 4 /path/to/pw.x -in PREFIX.pwi > PREFIX.pwo\"\n",
    "```\n",
    "\n",
    "## Output Storage\n",
    "\n",
    "### Default\n",
    "When using the storage `formatted`, kaldo stores the following dense tensor as formatted, human readable, files:\n",
    "- `frequency` $(n_{kpoints}, n_{modes})$. mode changes first k changes after\n",
    "- `velocity_alpha` $(n_{kpoints}, n_{modes})$\n",
    "- `physical_mode_<min_freq>_<max_freq>_<is_nw>` $(n_{kpoints}, n_{modes})$\n",
    "\n",
    "- `<temperature>/<statistics>/heat_capacity` $(n_{kpoints}, n_{modes})$\n",
    "- `<temperature>/<statistics>/population` $(n_{kpoints}, n_{modes})$\n",
    "\n",
    "- `<temperature>/<statistics>/<method>/<third_bandwidth>/<diffusivity_bandwidth>/conductivity_<alpha>_<beta>` $(n_{kpoints}, n_{modes})$ where the `<third_bandwidth>/<diffusivity_bandwidth>` folder is created only if those values are defined\n",
    "- `<temperature>/<statistics>/<diffusivity_bandwidth>/diffusivity` $(n_{kpoints}, n_{modes})$\n",
    "- `<temperature>/<statistics>/<third_bandwidth>/<method>/mean_free_path` $(n_{kpoints}, n_{modes})$\n",
    "- `<temperature>/<statistics>/<third_bandwidth>/lifetime` $(n_{kpoints}, n_{modes})$\n",
    "- `<temperature>/<statistics>/<third_bandwidth>/bandwidth` $(n_{kpoints}, n_{modes})$\n",
    "- `<temperature>/<statistics>/<third_bandwidth>/phase_space` $(n_{kpoints}, n_{modes})$\n",
    "- `<diffusivity_bandwidth>flux_dense` $(n_{kpoints}, n_{modes}, n_{kpoints}, n_{modes})$, when `diffusivity_threshold` is not specified.\n",
    "- `<diffusivity_bandwidth>/<diffusivity_threshold>/flux_sparse` $(n_{kpoints}, n_{modes}, n_{kpoints}, n_{modes})$. Sparse only when  `diffusivity_threshold` is specified.\n",
    "\n",
    "\n",
    "The folder structure depends on the input parameters to the Phonon Object\n",
    "and in parenthesis is the shape of the tensor. All of the above observables are stored in a dense format, \n",
    "except for `flux_alpha` which is stored as formatted file in a `index value` format.\n",
    "\n",
    "The following tensors are stored in raw binary format and help saving time when performing different simulations on the same sample.\n",
    "- `_eigensystem (eigenvalues and eigenvectors)`\n",
    "- `_dynmat_derivatives`\n",
    "- `<temperature>/<statistics>/<diffusivity_bandwidth>/_generalized_diffusivity` \n",
    "- `<temperature>/<statistics>/<third_bandwidth>/_ps_and_gamma_tensor`\n",
    "- `<temperature>/<statistics>/<third_bandwidth>/_ps_and_gamma`, when only RTA conductivity is required\n",
    "\n",
    "### Alternative Storage\n",
    "Other storage options available are `numpy` and `hdf5` where all the files are saved as one of those formats.\n",
    "Finally the `memory` option doesn't store any permanent files.\n",
    "\n",
    "| Measurement            | Units                    |\n",
    "|------------------------|--------------------------|\n",
    "| Potential Derivatives  | $eV/(A^2)$ or $eV/(A^3)$ |\n",
    "| Dynamical Matrix       | $THz$                    |\n",
    "| Conductivity [$\\kappa$]| $\\frac{W}{m\\ K}$         |\n",
    "| Distances              | $A$                      |\n",
    "| Masses                 | $g/N_A$                  |\n"
   ]
  }
 ],
 "metadata": {
  "kernelspec": {
   "display_name": "Python 3",
   "language": "python",
   "name": "python3"
  },
  "language_info": {
   "codemirror_mode": {
    "name": "ipython",
    "version": 2
   },
   "file_extension": ".py",
   "mimetype": "text/x-python",
   "name": "python",
   "nbconvert_exporter": "python",
   "pygments_lexer": "ipython2",
   "version": "2.7.6"
  },
  "pycharm": {
   "stem_cell": {
    "cell_type": "raw",
    "metadata": {
     "collapsed": false
    },
    "source": []
   }
  }
 },
 "nbformat": 4,
 "nbformat_minor": 0
}

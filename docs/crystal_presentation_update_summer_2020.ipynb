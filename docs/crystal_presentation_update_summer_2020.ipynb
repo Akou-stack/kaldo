{
  "nbformat": 4,
  "nbformat_minor": 0,
  "metadata": {
    "colab": {
      "name": "crystal_presentation_update_summer_2020.ipynb",
      "provenance": [],
      "collapsed_sections": [],
      "toc_visible": true
    },
    "kernelspec": {
      "name": "python3",
      "display_name": "Python 3"
    }
  },
  "cells": [
    {
      "cell_type": "markdown",
      "metadata": {
        "id": "HFoatzweSuTT",
        "colab_type": "text"
      },
      "source": [
        "\n",
        "Open the notebook in Colab\n",
        "\n",
        "<a href=\"https://colab.research.google.com/github/gbarbalinardo/kaldo/blob/feature/examples_tutorials_up_to_date/docs/crystal_presentation_update_summer_2020.ipynb\" target=\"_parent\"><img src=\"https://colab.research.google.com/assets/colab-badge.svg\" alt=\"Open In Colab\"/></a>"
      ]
    },
    {
      "cell_type": "markdown",
      "metadata": {
        "id": "7tmSqc3aRYYC",
        "colab_type": "text"
      },
      "source": [
        "# Remote fetch source code from Github"
      ]
    },
    {
      "cell_type": "code",
      "metadata": {
        "id": "7SHu3FQYReZC",
        "colab_type": "code",
        "colab": {}
      },
      "source": [
        "!git clone https://github.com/nanotheorygroup/kaldo.git"
      ],
      "execution_count": null,
      "outputs": []
    },
    {
      "cell_type": "markdown",
      "metadata": {
        "id": "RDmLrYaYyjjf",
        "colab_type": "text"
      },
      "source": [
        "#Install Kaldo from source code"
      ]
    },
    {
      "cell_type": "code",
      "metadata": {
        "id": "YmTI_xUXyxPn",
        "colab_type": "code",
        "colab": {}
      },
      "source": [
        "!rm -r /content/sample_data\n",
        "\n",
        "# Update utilities for tensorboard\n",
        "\n",
        "!pip install --upgrade grpcio\n",
        "!pip install --upgrade google-auth\n",
        "\n",
        "# Install kaldo from source\n",
        "\n",
        "%cd /content/kaldo\n",
        "!pip install .\n",
        "\n",
        "# Navigate back to workspace after installation completes\n",
        "%cd /content/"
      ],
      "execution_count": null,
      "outputs": []
    },
    {
      "cell_type": "markdown",
      "metadata": {
        "id": "W3jVRdQg1US_",
        "colab_type": "text"
      },
      "source": [
        "# Remote fetch supplyment files\n"
      ]
    },
    {
      "cell_type": "code",
      "metadata": {
        "id": "n4PN3gLv08-r",
        "colab_type": "code",
        "colab": {}
      },
      "source": [
        "import os\n",
        "if not os.path.exists('forcefields.zip'):\n",
        "  !wget http://sophe.ucdavis.edu/structures/forcefields.zip\n",
        "  !unzip forcefields.zip\n",
        "  !rm -r forcefields.zip"
      ],
      "execution_count": null,
      "outputs": []
    },
    {
      "cell_type": "markdown",
      "metadata": {
        "id": "QNd3HLW992Av",
        "colab_type": "text"
      },
      "source": [
        "# Remote fetch precomplied LAMMPS\n"
      ]
    },
    {
      "cell_type": "code",
      "metadata": {
        "id": "l3yNjxeR9-m-",
        "colab_type": "code",
        "colab": {}
      },
      "source": [
        "!wget http://sophe.ucdavis.edu/structures/lmp-tesla-t4-intel-xeon.gz\n",
        "!tar xvzf lmp-tesla-t4-intel-xeon.gz\n",
        "!rm /content/lmp-tesla-t4-intel-xeon.gz\n",
        "!ln -s /content/lammps/src/lmp_gpu /usr/local/bin/lmp_gpu\n",
        "\n",
        "# Navigate back to lammps source foder when for \n",
        "# later LAMMPS-Python integration\n",
        "\n",
        "%cd /content/lammps/src\n",
        "\n",
        "print('\\n')\n",
        "print('Remote Fetching precomplied LAMMPS is finished!')"
      ],
      "execution_count": null,
      "outputs": []
    },
    {
      "cell_type": "markdown",
      "metadata": {
        "id": "N45o6ZTG_6w7",
        "colab_type": "text"
      },
      "source": [
        "#Integrate LAMMPS Into Python "
      ]
    },
    {
      "cell_type": "code",
      "metadata": {
        "id": "HN8HfxJN_7dU",
        "colab_type": "code",
        "colab": {}
      },
      "source": [
        "!make install-python\n",
        "\n",
        "# Copy executable file to where the python Module locates\n",
        "\n",
        "import shutil \n",
        "src_path = '/usr/lib/python3/dist-packages/liblammps.so'\n",
        "dist_path = '/usr/local/lib/python3.6/dist-packages/liblammps.so'\n",
        "shutil.copyfile(src_path,dist_path)\n",
        "\n",
        "# Naviagate back to main folder before simulation\n",
        "\n",
        "%cd /content\n",
        "\n",
        "print('\\n')\n",
        "print('LAMMPS-Python Integration is completed!')"
      ],
      "execution_count": null,
      "outputs": []
    },
    {
      "cell_type": "markdown",
      "metadata": {
        "id": "FlzbvmDEACjK",
        "colab_type": "text"
      },
      "source": [
        "# Thermal transport simulation for silicon-bulk"
      ]
    },
    {
      "cell_type": "markdown",
      "metadata": {
        "id": "uzhWN30mYhsT",
        "colab_type": "text"
      },
      "source": [
        "## Compute $2^{nd}$ and $3^{rd}$ order IFCS."
      ]
    },
    {
      "cell_type": "code",
      "metadata": {
        "id": "pznkqF7TYg7c",
        "colab_type": "code",
        "colab": {}
      },
      "source": [
        "from ase.build import bulk\n",
        "from ase.calculators.lammpslib import LAMMPSlib\n",
        "from kaldo.forceconstants import ForceConstants\n",
        "import numpy as np\n",
        "\n",
        "# We start from the atoms object\n",
        "\n",
        "atoms = bulk('Si', 'diamond', a=5.432)\n",
        "\n",
        "# Config super cell and calculator input\n",
        "\n",
        "supercell = np.array([3, 3, 3])\n",
        "lammps_inputs = {\n",
        "      'lmpcmds': [\n",
        "          'pair_style tersoff',\n",
        "          'pair_coeff * * forcefields/Si.tersoff Si'],\n",
        "\n",
        "      'log_file': 'lammps-si-bulk.txt',\n",
        "      'keep_alive':True}\n",
        "\n",
        "# Create a finite difference object\n",
        "\n",
        "forceconstants_config  = {'atoms':atoms,'supercell': supercell,'folder':'fd'}\n",
        "forceconstants = ForceConstants(**forceconstants_config)\n",
        "\n",
        "# Compute 2nd and 3rd IFCs with the defined calculators\n",
        "\n",
        "forceconstants.calculate_second(LAMMPSlib(**lammps_inputs))\n",
        "forceconstants.calculate_third(LAMMPSlib(**lammps_inputs))"
      ],
      "execution_count": null,
      "outputs": []
    },
    {
      "cell_type": "markdown",
      "metadata": {
        "id": "nMaD_Vp3Yq8M",
        "colab_type": "text"
      },
      "source": [
        "## Create phonons object\n"
      ]
    },
    {
      "cell_type": "code",
      "metadata": {
        "id": "wmohtOrZYqB9",
        "colab_type": "code",
        "colab": {}
      },
      "source": [
        "from kaldo.phonons import Phonons\n",
        "\n",
        "# Define k-point grids, temperature\n",
        "# and the assumption for the \n",
        "# phonon poluation (i.e classical vs. quantum)\n",
        "\n",
        "k = 7\n",
        "kpts = [k, k, k]\n",
        "temperature = 300\n",
        "is_classic = False\n",
        "k_label = str(k) + '_' + str(k) + '_' + str(k)\n",
        "\n",
        "# Create a phonon object\n",
        "\n",
        "phonons = Phonons(forceconstants=forceconstants,\n",
        "                kpts=kpts,\n",
        "                is_classic=is_classic,\n",
        "                temperature=temperature,\n",
        "                is_tf_backend=True,\n",
        "                folder='si-bulk-ald-' + k_label,\n",
        "                storage='numpy')"
      ],
      "execution_count": 7,
      "outputs": []
    },
    {
      "cell_type": "markdown",
      "metadata": {
        "id": "NO5weMg1YbjD",
        "colab_type": "text"
      },
      "source": [
        "## Calculate conductivities for infinite-size sample\n"
      ]
    },
    {
      "cell_type": "code",
      "metadata": {
        "id": "r4DQJ9R8_LSs",
        "colab_type": "code",
        "colab": {}
      },
      "source": [
        "from kaldo.conductivity import Conductivity\n",
        "\n",
        "# Calculate conductivity  with direct inversion approach (inverse)\n",
        "\n",
        "print('\\n')\n",
        "inv_cond_matrix = (Conductivity(phonons=phonons, method='inverse').conductivity.sum(axis=0))\n",
        "print('Inverse conductivity (W/mK): %.3f'%(np.mean(np.diag(inv_cond_matrix))))\n",
        "print(inv_cond_matrix)\n",
        "\n",
        "# Calculate conductivity  with  relaxation time approximation (rta)\n",
        "\n",
        "print('\\n')\n",
        "rta_cond_matrix = Conductivity(phonons=phonons, method='rta').conductivity.sum(axis=0)\n",
        "print('Rta conductivity (W/mK): %.3f'%(np.mean(np.diag(rta_cond_matrix))))\n",
        "print(rta_cond_matrix)\n",
        "\n",
        "# Calculate conductivity  with  self-consistent approach (sc)\n",
        "\n",
        "print('\\n')\n",
        "sc_cond_matrix = Conductivity(phonons=phonons, method='sc',n_iterations=20).conductivity.sum(axis=0)\n",
        "print('Self-consistent conductivity (W/mK): %.3f'%(np.mean(np.diag(sc_cond_matrix))))\n",
        "print(sc_cond_matrix)"
      ],
      "execution_count": null,
      "outputs": []
    },
    {
      "cell_type": "markdown",
      "metadata": {
        "id": "C7Cyk7teqqbO",
        "colab_type": "text"
      },
      "source": [
        "## Visualize harmonic properties using built-in plotter\n"
      ]
    },
    {
      "cell_type": "code",
      "metadata": {
        "id": "vPF77pJPpeXk",
        "colab_type": "code",
        "colab": {}
      },
      "source": [
        "import kaldo.controllers.plotter as plotter\n",
        "import matplotlib.pyplot as plt\n",
        "plt.style.use('seaborn-poster')\n",
        "\n",
        "# Plot dispersion relation and group velocity in each direction\n",
        "\n",
        "plotter.plot_dispersion(phonons,n_k_points=int(k_label))\n",
        "print('\\n')"
      ],
      "execution_count": null,
      "outputs": []
    },
    {
      "cell_type": "markdown",
      "metadata": {
        "id": "OMgSvwd3q4jN",
        "colab_type": "text"
      },
      "source": [
        "## Acess and visualize properties calculated during simulations"
      ]
    },
    {
      "cell_type": "code",
      "metadata": {
        "id": "WWi2-O99HQv3",
        "colab_type": "code",
        "colab": {}
      },
      "source": [
        "# Direct access to properties\n",
        "# calculated during the simulation\n",
        "\n",
        "# Plot heat capacity vs frequency\n",
        "\n",
        "freq_full = phonons.frequency.flatten(order='C')\n",
        "cv_1d = phonons.heat_capacity.flatten(order='C')[3:]\n",
        "\n",
        "print('\\n')\n",
        "plt.figure()\n",
        "plt.scatter(freq_full[3:],1e23*cv_1d,s=15)\n",
        "plt.ylabel (r\"$C_{v}$ ($10^{23}$ J/K)\", fontsize=25, fontweight='bold')\n",
        "plt.xlabel (\"$\\\\nu$ (Thz)\", fontsize=25, fontweight='bold')\n",
        "plt.ylim(0.9*1e23*cv_1d[cv_1d>0].min(), \n",
        "         1.05*1e23*cv_1d.max())\n",
        "plt.show()\n",
        "\n",
        "# Plot phonon bandwidth vs frequency\n",
        "\n",
        "band_wdidth_flatten = phonons.bandwidth.flatten(order='C')\n",
        "freq = freq_full[band_wdidth_flatten!=0]\n",
        "\n",
        "print('\\n')\n",
        "plt.figure()\n",
        "plt.scatter(freq,band_wdidth_flatten[band_wdidth_flatten!=0] ,s=15)\n",
        "plt.ylabel (r\"$\\Gamma$ (Thz)\", fontsize=25, fontweight='bold')\n",
        "plt.xlabel (\"$\\\\nu$ (Thz)\", fontsize=25, fontweight='bold')\n",
        "plt.ylim(0.95*band_wdidth_flatten .min(), 1.05*band_wdidth_flatten .max())\n",
        "plt.show()\n",
        "\n",
        "# Plot phase space vs frequency\n",
        "\n",
        "print('\\n')\n",
        "plt.figure()\n",
        "plt.scatter(freq_full[3:],phonons.phase_space.flatten(order='C')[3:],s=15)\n",
        "plt.ylabel (\"Phase space\", fontsize=25, fontweight='bold')\n",
        "plt.xlabel (\"$\\\\nu$ (Thz)\", fontsize=25, fontweight='bold')\n",
        "plt.ylim(phonons.phase_space.min(), phonons.phase_space.max())\n",
        "plt.show()"
      ],
      "execution_count": null,
      "outputs": []
    },
    {
      "cell_type": "markdown",
      "metadata": {
        "id": "N8CQx70vPKqO",
        "colab_type": "text"
      },
      "source": [
        "## Calculate and visualize $\\kappa_{per \\ mode}$ and $\\kappa_{cum}$"
      ]
    },
    {
      "cell_type": "code",
      "metadata": {
        "id": "hf_1RScJJOCX",
        "colab_type": "code",
        "colab": {}
      },
      "source": [
        "def cumulative_cond_cal(freq,full_cond,n_phonons):\n",
        "\n",
        "  conductivity = np.einsum('maa->m', 1/3 * full_cond)\n",
        "  conductivity = conductivity.reshape(n_phonons)\n",
        "  cumulative_cond = np.zeros_like(conductivity)\n",
        "  freq_reshaped = freq.reshape(n_phonons)\n",
        "\n",
        "  for mu in range(cumulative_cond.size):\n",
        "      single_cumulative_cond = conductivity[(freq_reshaped < freq_reshaped[mu])].sum()\n",
        "      cumulative_cond[mu] = single_cumulative_cond\n",
        "  \n",
        "  return cumulative_cond"
      ],
      "execution_count": 11,
      "outputs": []
    },
    {
      "cell_type": "code",
      "metadata": {
        "id": "CbCO9cIsPrVP",
        "colab_type": "code",
        "colab": {}
      },
      "source": [
        "# Compute conductivity per phonon mode basis with different methods\n",
        "\n",
        "kappa_rta_per_mode = np.einsum('maa->m',1/3*Conductivity(phonons=phonons, method='rta').conductivity)\n",
        "kappa_inv_per_mode = np.einsum('maa->m',1/3*Conductivity(phonons=phonons, method='inverse').conductivity)\n",
        "kappa_sc_per_mode = np.einsum('maa->m',1/3*Conductivity(phonons=phonons, method='sc',n_iterations=20).conductivity)\n",
        "\n",
        "# Compute cumulative conductivity by frequency with different methods\n",
        "\n",
        "kappa_rta_cum_freq = cumulative_cond_cal(phonons.frequency,Conductivity(phonons=phonons, method='rta').conductivity,phonons.n_phonons)\n",
        "kappa_sc_cum_freq = cumulative_cond_cal(phonons.frequency,Conductivity(phonons=phonons, method='sc',n_iterations=20).conductivity,phonons.n_phonons)\n",
        "kappa_inv_cum_freq = cumulative_cond_cal(phonons.frequency,Conductivity(phonons=phonons, method='inverse').conductivity,phonons.n_phonons)\n",
        "kappa_qhgk_cum_freq = cumulative_cond_cal(phonons.frequency,Conductivity(phonons=phonons, method='qhgk').conductivity,phonons.n_phonons)\n",
        "\n",
        "print('\\n')\n",
        "\n",
        "# Visualize the cumulative conductivity vs frequency\n",
        "\n",
        "plt.figure()\n",
        "plt.plot(freq_full,kappa_rta_per_mode,'r.',label='RTA')\n",
        "plt.plot(freq_full,kappa_sc_per_mode,'mo',label='Self Consistent',ms=8)\n",
        "plt.plot(freq_full,kappa_inv_per_mode,'k.',label='Direct Inversion')\n",
        "plt.xlabel (\"$\\\\nu$ (Thz)\", fontsize=25, fontweight='bold')\n",
        "plt.ylabel(r'$\\kappa(W/m/K)$', fontsize=25, fontweight='bold')\n",
        "plt.legend(loc=1,frameon=False)\n",
        "#plt.grid()\n",
        "plt.show()\n",
        "\n",
        "print('\\n')\n",
        "\n",
        "# Visualize the cumulative conductivity vs frequency\n",
        "\n",
        "plt.figure()\n",
        "plt.plot(freq_full,kappa_rta_cum_freq,'r.',label='RTA')\n",
        "plt.plot(freq_full,kappa_sc_cum_freq,'mo',label='Self Consistent',ms=8)\n",
        "plt.plot(freq_full,kappa_inv_cum_freq,'k.',label='Direct Inversion')\n",
        "plt.xlabel (\"$\\\\nu$ (Thz)\", fontsize=25, fontweight='bold')\n",
        "plt.ylabel(r'$\\kappa_{cum}(W/m/K)$', fontsize=25, fontweight='bold')\n",
        "plt.legend(loc=4,frameon=False)\n",
        "plt.grid()\n",
        "plt.show()"
      ],
      "execution_count": null,
      "outputs": []
    }
  ]
}
